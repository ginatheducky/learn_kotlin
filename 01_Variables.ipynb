{
 "cells": [
  {
   "metadata": {},
   "cell_type": "markdown",
   "source": "# Variables"
  },
  {
   "metadata": {},
   "cell_type": "markdown",
   "source": "Kotlin is statically typed, it will check the variable types at compile time. Each variable has a type that can't be changed. If we declare a variable as integer, then the variable can't be assigned a string."
  },
  {
   "cell_type": "code",
   "metadata": {
    "collapsed": true,
    "ExecuteTime": {
     "end_time": "2025-06-27T20:24:06.584430800Z",
     "start_time": "2025-06-27T20:24:06.444879300Z"
    }
   },
   "source": [
    "// we can change the value\n",
    "var userName: String = \"Gina\"\n",
    "userName = \"Gina King\"\n",
    "\n",
    "// we cannot change the value\n",
    "// we also don't have to use the explicit type when we assign a value when creating the variable; it type infers\n",
    "val userID = 34\n",
    "\n",
    "// print statements\n",
    "println(\"Hi, I am $userName!\")\n",
    "println(\"The userID is: $userID\")"
   ],
   "outputs": [
    {
     "name": "stdout",
     "output_type": "stream",
     "text": [
      "Hi, I am Gina King!\r\n",
      "The userID is: 34\r\n"
     ]
    }
   ],
   "execution_count": 1
  }
 ],
 "metadata": {
  "kernelspec": {
   "display_name": "Kotlin",
   "language": "kotlin",
   "name": "kotlin"
  },
  "language_info": {
   "name": "kotlin",
   "version": "1.9.23",
   "mimetype": "text/x-kotlin",
   "file_extension": ".kt",
   "pygments_lexer": "kotlin",
   "codemirror_mode": "text/x-kotlin",
   "nbconvert_exporter": ""
  }
 },
 "nbformat": 4,
 "nbformat_minor": 0
}
