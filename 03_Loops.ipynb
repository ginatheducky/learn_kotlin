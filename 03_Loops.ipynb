{
 "cells": [
  {
   "metadata": {},
   "cell_type": "markdown",
   "source": "# Loops"
  },
  {
   "metadata": {},
   "cell_type": "markdown",
   "source": "## For Loops"
  },
  {
   "cell_type": "code",
   "metadata": {
    "collapsed": true,
    "ExecuteTime": {
     "end_time": "2025-07-07T10:12:45.671231400Z",
     "start_time": "2025-07-07T10:12:45.494259900Z"
    }
   },
   "source": [
    "for (i in 1..10) {\n",
    "    println(\"i = $i\")\n",
    "}"
   ],
   "outputs": [
    {
     "name": "stdout",
     "output_type": "stream",
     "text": [
      "i = 1\r\n",
      "i = 2\r\n",
      "i = 3\r\n",
      "i = 4\r\n",
      "i = 5\r\n",
      "i = 6\r\n",
      "i = 7\r\n",
      "i = 8\r\n",
      "i = 9\r\n",
      "i = 10\r\n"
     ]
    }
   ],
   "execution_count": 1
  },
  {
   "metadata": {
    "ExecuteTime": {
     "end_time": "2025-07-07T10:14:15.433683300Z",
     "start_time": "2025-07-07T10:14:15.386515100Z"
    }
   },
   "cell_type": "code",
   "source": [
    "for (i in 1 until 10) {\n",
    "    println(\"i = $i\")\n",
    "}"
   ],
   "outputs": [
    {
     "name": "stdout",
     "output_type": "stream",
     "text": [
      "i = 1\r\n",
      "i = 2\r\n",
      "i = 3\r\n",
      "i = 4\r\n",
      "i = 5\r\n",
      "i = 6\r\n",
      "i = 7\r\n",
      "i = 8\r\n",
      "i = 9\r\n"
     ]
    }
   ],
   "execution_count": 2
  },
  {
   "metadata": {
    "ExecuteTime": {
     "end_time": "2025-07-07T10:16:27.350296Z",
     "start_time": "2025-07-07T10:16:27.303898Z"
    }
   },
   "cell_type": "code",
   "source": [
    "// loop backwards\n",
    "for (i in 10 downTo 1) {\n",
    "    println(\"i = $i\")\n",
    "}"
   ],
   "outputs": [
    {
     "name": "stdout",
     "output_type": "stream",
     "text": [
      "i = 10\r\n",
      "i = 9\r\n",
      "i = 8\r\n",
      "i = 7\r\n",
      "i = 6\r\n",
      "i = 5\r\n",
      "i = 4\r\n",
      "i = 3\r\n",
      "i = 2\r\n",
      "i = 1\r\n"
     ]
    }
   ],
   "execution_count": 3
  },
  {
   "metadata": {
    "ExecuteTime": {
     "end_time": "2025-07-07T10:17:55.417175100Z",
     "start_time": "2025-07-07T10:17:55.341864500Z"
    }
   },
   "cell_type": "code",
   "source": [
    "for (i in 1 until 10 step 2) {\n",
    "    println(\"i = $i\")\n",
    "}"
   ],
   "outputs": [
    {
     "name": "stdout",
     "output_type": "stream",
     "text": [
      "i = 1\r\n",
      "i = 3\r\n",
      "i = 5\r\n",
      "i = 7\r\n",
      "i = 9\r\n"
     ]
    }
   ],
   "execution_count": 4
  },
  {
   "metadata": {},
   "cell_type": "markdown",
   "source": "## While and DoWhile Loop"
  },
  {
   "metadata": {},
   "cell_type": "markdown",
   "source": "A while loop runs as long as a specific condition is true."
  },
  {
   "metadata": {
    "ExecuteTime": {
     "end_time": "2025-07-24T09:27:05.289471900Z",
     "start_time": "2025-07-24T09:27:05.133970600Z"
    }
   },
   "cell_type": "code",
   "source": [
    "var number = 0\n",
    "while (number < 10) {\n",
    "    println(number)\n",
    "    number++\n",
    "}"
   ],
   "outputs": [
    {
     "name": "stdout",
     "output_type": "stream",
     "text": [
      "0\r\n",
      "1\r\n",
      "2\r\n",
      "3\r\n",
      "4\r\n",
      "5\r\n",
      "6\r\n",
      "7\r\n",
      "8\r\n",
      "9\r\n"
     ]
    }
   ],
   "execution_count": 1
  },
  {
   "metadata": {
    "ExecuteTime": {
     "end_time": "2025-08-17T19:11:54.167402Z",
     "start_time": "2025-08-17T19:11:54.000136400Z"
    }
   },
   "cell_type": "code",
   "source": [
    "// do while loop\n",
    "var number = 10\n",
    "\n",
    "do { // code is executed at least once\n",
    "    println(number)\n",
    "    number++\n",
    "} while (number < 10)"
   ],
   "outputs": [
    {
     "name": "stdout",
     "output_type": "stream",
     "text": [
      "10\r\n"
     ]
    }
   ],
   "execution_count": 1
  }
 ],
 "metadata": {
  "kernelspec": {
   "display_name": "Kotlin",
   "language": "kotlin",
   "name": "kotlin"
  },
  "language_info": {
   "name": "kotlin",
   "version": "1.9.23",
   "mimetype": "text/x-kotlin",
   "file_extension": ".kt",
   "pygments_lexer": "kotlin",
   "codemirror_mode": "text/x-kotlin",
   "nbconvert_exporter": ""
  }
 },
 "nbformat": 4,
 "nbformat_minor": 0
}
