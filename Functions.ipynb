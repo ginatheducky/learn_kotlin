{
 "cells": [
  {
   "metadata": {},
   "cell_type": "markdown",
   "source": "# Functions"
  },
  {
   "metadata": {},
   "cell_type": "markdown",
   "source": "To declare a function, we use the fun keyword."
  },
  {
   "cell_type": "code",
   "metadata": {
    "collapsed": true,
    "ExecuteTime": {
     "end_time": "2025-07-07T09:04:29.935222200Z",
     "start_time": "2025-07-07T09:04:29.811881Z"
    }
   },
   "source": [
    "// declare own function\n",
    "fun sayHello(name: String, age: Int) {\n",
    "    // you cannot change the value of the parameter like name, because they are declared as val\n",
    "    println(\"Hello, $name! Your age is $age.\")\n",
    "}\n",
    "\n",
    "sayHello(name = \"Gina\", age = 33)"
   ],
   "outputs": [
    {
     "name": "stdout",
     "output_type": "stream",
     "text": [
      "Hello, Gina! Your age is 33.\r\n"
     ]
    }
   ],
   "execution_count": 2
  },
  {
   "metadata": {},
   "cell_type": "markdown",
   "source": "We can use functions in if-else statements."
  },
  {
   "metadata": {
    "ExecuteTime": {
     "end_time": "2025-07-07T09:04:30.041182200Z",
     "start_time": "2025-07-07T09:04:29.942309300Z"
    }
   },
   "cell_type": "code",
   "source": [
    "fun getData(data: String) {\n",
    "    println(\"Your data is: $data\")\n",
    "}\n",
    "\n",
    "fun showMessage() {\n",
    "    println(\"There is no internet connection.\")\n",
    "}\n",
    "\n",
    "val hasInternetConnection = false\n",
    "\n",
    "if (hasInternetConnection) {\n",
    "    getData(data = \"Some data\")\n",
    "}else {\n",
    "    showMessage()\n",
    "}"
   ],
   "outputs": [
    {
     "name": "stdout",
     "output_type": "stream",
     "text": [
      "There is no internet connection.\r\n"
     ]
    }
   ],
   "execution_count": 3
  },
  {
   "metadata": {},
   "cell_type": "markdown",
   "source": "We can also return a value from a function. If we use a return statement to return something, the function is left after the return keyword. Code after the return keyword is not executed."
  },
  {
   "metadata": {
    "ExecuteTime": {
     "end_time": "2025-07-07T09:04:30.120266200Z",
     "start_time": "2025-07-07T09:04:30.047189400Z"
    }
   },
   "cell_type": "code",
   "source": [
    "// return a value\n",
    "fun getMax(a: Int, b: Int): Int {\n",
    "    val max = if (a > b) a else b\n",
    "    return max\n",
    "    // the function is left after the return keyword, code after return keyword is not executed\n",
    "}\n",
    "\n",
    "val max = getMax(5, 9)\n",
    "println(\"The maximum value is $max.\")"
   ],
   "outputs": [
    {
     "name": "stdout",
     "output_type": "stream",
     "text": [
      "The maximum value is 9.\r\n"
     ]
    }
   ],
   "execution_count": 4
  },
  {
   "metadata": {},
   "cell_type": "markdown",
   "source": "## Function Overloading"
  },
  {
   "metadata": {},
   "cell_type": "markdown",
   "source": "The println statement is also an overloaded function, which is why you can pass different parameters to it like string or integers."
  },
  {
   "metadata": {
    "ExecuteTime": {
     "end_time": "2025-07-07T09:04:30.231228500Z",
     "start_time": "2025-07-07T09:04:30.135313700Z"
    }
   },
   "cell_type": "code",
   "source": [
    "fun getMax(a: Int, b: Int): Int {\n",
    "    if (a > b) {\n",
    "        return a\n",
    "    }else {\n",
    "        return b\n",
    "    }\n",
    "}\n",
    "\n",
    "// can be written shorter and with other parameter types\n",
    "// if the function has the same name, the compiler can figure out which function to use depending on the parameters\n",
    "fun getMax(a: Double, b: Double) = if (a > b) a else b\n",
    "\n",
    "fun getMax(a: Int, b: Int, c: Int): Int {\n",
    "    if (a >= b && a >= c) {\n",
    "        return a\n",
    "    }else if (b >= a && b >= c) {\n",
    "        return b\n",
    "    }else {\n",
    "        return c\n",
    "    }\n",
    "}\n",
    "\n",
    "var max = getMax(5, 9, 10)\n",
    "println(max)"
   ],
   "outputs": [
    {
     "name": "stdout",
     "output_type": "stream",
     "text": [
      "10\r\n"
     ]
    }
   ],
   "execution_count": 5
  },
  {
   "metadata": {},
   "cell_type": "markdown",
   "source": "## Function Default values"
  },
  {
   "metadata": {
    "ExecuteTime": {
     "end_time": "2025-07-07T09:04:30.277162100Z",
     "start_time": "2025-07-07T09:04:30.239432700Z"
    }
   },
   "cell_type": "code",
   "source": [
    "fun sendMessage(name: String, message: String) {\n",
    "    println(\"Name = $name and message = $message\")\n",
    "}\n",
    "\n",
    "sendMessage(name = \"Gina\", message = \"Hello\")"
   ],
   "outputs": [
    {
     "name": "stdout",
     "output_type": "stream",
     "text": [
      "Name = Gina and message = Hello\r\n"
     ]
    }
   ],
   "execution_count": 6
  },
  {
   "metadata": {},
   "cell_type": "markdown",
   "source": "What if the user doesn't want to send a message but we still want to use the function. We can define a default value for the parameters."
  },
  {
   "metadata": {
    "ExecuteTime": {
     "end_time": "2025-07-07T09:04:30.378289600Z",
     "start_time": "2025-07-07T09:04:30.306326100Z"
    }
   },
   "cell_type": "code",
   "source": [
    "fun sendMessage(name: String = \"User\", message: String = \"\") {\n",
    "    println(\"Name = $name and message = $message\")\n",
    "}\n",
    "\n",
    "sendMessage(name = \"Gina\")\n",
    "sendMessage() // this uses all default values"
   ],
   "outputs": [
    {
     "name": "stdout",
     "output_type": "stream",
     "text": [
      "Name = Gina and message = \r\n",
      "Name = User and message = \r\n"
     ]
    }
   ],
   "execution_count": 7
  },
  {
   "metadata": {},
   "cell_type": "markdown",
   "source": "You can also use another function as parameter for another function."
  },
  {
   "metadata": {
    "ExecuteTime": {
     "end_time": "2025-07-07T09:04:40.206375800Z",
     "start_time": "2025-07-07T09:04:40.176322Z"
    }
   },
   "cell_type": "code",
   "source": [
    "fun sendText(): String {\n",
    "    return \"Some text\"\n",
    "}\n",
    "\n",
    "sendMessage(name=\"Test\", message= sendText())"
   ],
   "outputs": [
    {
     "name": "stdout",
     "output_type": "stream",
     "text": [
      "Name = Test and message = Some text\r\n"
     ]
    }
   ],
   "execution_count": 9
  },
  {
   "metadata": {},
   "cell_type": "markdown",
   "source": "## vararg keyword"
  },
  {
   "metadata": {
    "ExecuteTime": {
     "end_time": "2025-07-07T09:07:53.848258300Z",
     "start_time": "2025-07-07T09:07:53.807882900Z"
    }
   },
   "cell_type": "code",
   "source": [
    "fun sum(a: Int, b: Int, c: Int, d: Int): Int {\n",
    "    return a+b+c+d\n",
    "}"
   ],
   "outputs": [],
   "execution_count": 10
  },
  {
   "metadata": {
    "ExecuteTime": {
     "end_time": "2025-07-07T09:08:12.188235200Z",
     "start_time": "2025-07-07T09:08:12.109872200Z"
    }
   },
   "cell_type": "code",
   "source": "sum(5, 6, 7, 10)",
   "outputs": [
    {
     "data": {
      "text/plain": [
       "28"
      ]
     },
     "execution_count": 11,
     "metadata": {},
     "output_type": "execute_result"
    }
   ],
   "execution_count": 11
  },
  {
   "metadata": {},
   "cell_type": "markdown",
   "source": "Now if we want to pass another parameter, like another number, we can't because we are limited by the number of parameters we defined. But what if we want to pass more numbers? To solve that, we need to use a vararg keyword. This allows us to pass more than one argument to our parameter."
  },
  {
   "metadata": {
    "ExecuteTime": {
     "end_time": "2025-07-07T09:22:42.378827700Z",
     "start_time": "2025-07-07T09:22:42.323138700Z"
    }
   },
   "cell_type": "code",
   "source": [
    "fun sum(vararg numbers: Int): Int {\n",
    "    // we need to loop through our numbers\n",
    "    var result = 0\n",
    "    for (number in numbers) {\n",
    "        result += number\n",
    "    }\n",
    "    return result\n",
    "}\n",
    "\n",
    "println(sum(3, 2, 1))\n",
    "println(sum(1, 5, 6, 8, 10))"
   ],
   "outputs": [
    {
     "name": "stdout",
     "output_type": "stream",
     "text": [
      "6\r\n",
      "30\r\n"
     ]
    }
   ],
   "execution_count": 14
  }
 ],
 "metadata": {
  "kernelspec": {
   "display_name": "Kotlin",
   "language": "kotlin",
   "name": "kotlin"
  },
  "language_info": {
   "name": "kotlin",
   "version": "1.9.23",
   "mimetype": "text/x-kotlin",
   "file_extension": ".kt",
   "pygments_lexer": "kotlin",
   "codemirror_mode": "text/x-kotlin",
   "nbconvert_exporter": ""
  }
 },
 "nbformat": 4,
 "nbformat_minor": 0
}
